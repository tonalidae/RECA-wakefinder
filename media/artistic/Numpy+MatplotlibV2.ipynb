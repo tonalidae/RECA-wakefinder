{
 "metadata": {
  "name": "Numpy+Matplotlib"
 },
 "nbformat": 3,
 "nbformat_minor": 0,
 "worksheets": [
  {
   "cells": [
    {
     "cell_type": "heading",
     "level": 1,
     "metadata": {},
     "source": [
      "Introducci\u00f3n a Numpy y Matplotlib"
     ]
    },
    {
     "cell_type": "heading",
     "level": 2,
     "metadata": {},
     "source": [
      "\u00bfQue es numpy?"
     ]
    },
    {
     "cell_type": "raw",
     "metadata": {},
     "source": [
      "Con listas tenemos:"
     ]
    },
    {
     "cell_type": "code",
     "collapsed": false,
     "input": [
      "a=[1,2,3,4]\n",
      "b=[5,6,7,8]\n",
      "a+b"
     ],
     "language": "python",
     "metadata": {},
     "outputs": [
      {
       "output_type": "pyout",
       "prompt_number": 1,
       "text": [
        "[1, 2, 3, 4, 5, 6, 7, 8]"
       ]
      }
     ],
     "prompt_number": 1
    },
    {
     "cell_type": "raw",
     "metadata": {},
     "source": [
      "Pero con numpy tenemos que:"
     ]
    },
    {
     "cell_type": "code",
     "collapsed": false,
     "input": [
      "import numpy as np\n",
      "a=np.array([1,2,3,4,5])\n",
      "b=np.array([6,7,8,9,10])\n",
      "a+b"
     ],
     "language": "python",
     "metadata": {},
     "outputs": [
      {
       "output_type": "pyout",
       "prompt_number": 2,
       "text": [
        "array([ 7,  9, 11, 13, 15])"
       ]
      }
     ],
     "prompt_number": 2
    },
    {
     "cell_type": "markdown",
     "metadata": {},
     "source": [
      "Una forma de definir arreglos:"
     ]
    },
    {
     "cell_type": "code",
     "collapsed": false,
     "input": [
      "a=np.array([1.,2.,3.,4.,5.])\n",
      "b=np.array([[1,2,3,4,5],[6,7,8,9,10],[11,12,13,14,15]])\n",
      "print a\n",
      "print\n",
      "print b"
     ],
     "language": "python",
     "metadata": {},
     "outputs": [
      {
       "output_type": "stream",
       "stream": "stdout",
       "text": [
        "[ 1.  2.  3.  4.  5.]\n",
        "\n",
        "[[ 1  2  3  4  5]\n",
        " [ 6  7  8  9 10]\n",
        " [11 12 13 14 15]]\n"
       ]
      }
     ],
     "prompt_number": 3
    },
    {
     "cell_type": "raw",
     "metadata": {},
     "source": [
      "Algunos atributos de los arreglos de Numpy:"
     ]
    },
    {
     "cell_type": "code",
     "collapsed": false,
     "input": [
      "print a.ndim,b.ndim"
     ],
     "language": "python",
     "metadata": {},
     "outputs": [
      {
       "output_type": "stream",
       "stream": "stdout",
       "text": [
        "1 2\n"
       ]
      }
     ],
     "prompt_number": 4
    },
    {
     "cell_type": "code",
     "collapsed": false,
     "input": [
      "print a.shape,b.shape"
     ],
     "language": "python",
     "metadata": {},
     "outputs": [
      {
       "output_type": "stream",
       "stream": "stdout",
       "text": [
        "(5,) (3, 5)\n"
       ]
      }
     ],
     "prompt_number": 6
    },
    {
     "cell_type": "code",
     "collapsed": false,
     "input": [
      "print a.size,b.size"
     ],
     "language": "python",
     "metadata": {},
     "outputs": [
      {
       "output_type": "stream",
       "stream": "stdout",
       "text": [
        "5 15\n"
       ]
      }
     ],
     "prompt_number": 7
    },
    {
     "cell_type": "code",
     "collapsed": false,
     "input": [
      "print a.dtype,b.dtype\n",
      "print type(a),type(b)"
     ],
     "language": "python",
     "metadata": {},
     "outputs": [
      {
       "output_type": "stream",
       "stream": "stdout",
       "text": [
        "float64 int64\n",
        "<type 'numpy.ndarray'> <type 'numpy.ndarray'>\n"
       ]
      }
     ],
     "prompt_number": 8
    },
    {
     "cell_type": "heading",
     "level": 2,
     "metadata": {},
     "source": [
      "Otras formas de crear arreglos de numpy"
     ]
    },
    {
     "cell_type": "raw",
     "metadata": {},
     "source": [
      "Creando arreglos de numpy a partir de listas y tuplas."
     ]
    },
    {
     "cell_type": "code",
     "collapsed": true,
     "input": [
      "l1=[[1,2,3],[4,5,6]]\n",
      "l2=[(1,2,3),(4,5,6)]  \n",
      "l3=((1,2,3),(4,5,6))\n",
      "l1a=np.array(l1)\n",
      "l2a=np.array(l2)\n",
      "l3a=np.array(l3)"
     ],
     "language": "python",
     "metadata": {},
     "outputs": [],
     "prompt_number": 9
    },
    {
     "cell_type": "code",
     "collapsed": false,
     "input": [
      "print l1a\n",
      "print \"*********\"\n",
      "print l2a\n",
      "print \"*********\"\n",
      "print l3a"
     ],
     "language": "python",
     "metadata": {},
     "outputs": [
      {
       "output_type": "stream",
       "stream": "stdout",
       "text": [
        "[[1 2 3]\n",
        " [4 5 6]]\n",
        "*********\n",
        "[[1 2 3]\n",
        " [4 5 6]]\n",
        "*********\n",
        "[[1 2 3]\n",
        " [4 5 6]]\n"
       ]
      }
     ],
     "prompt_number": 10
    },
    {
     "cell_type": "markdown",
     "metadata": {},
     "source": [
      "Especificando el tipo num\u00e9rico del array"
     ]
    },
    {
     "cell_type": "code",
     "collapsed": false,
     "input": [
      "a=np.array([1,2,3,4])\n",
      "a_int=np.array([1,2,3,4],dtype=\"int\")\n",
      "a_int32=np.array([1,2,3,4],dtype=\"int32\")\n",
      "a_float32=np.array([1,2,3,4],dtype=\"float32\")\n",
      "a_float=np.array([1,2,3,4],dtype=\"float\")\n",
      "a_double=np.array([1,2,3,4],dtype=\"double\")\n",
      "a_double128=np.array([1,2,3,4],dtype=\"float128\")\n",
      "a_complex64=np.array([1,2,3,4],dtype=\"complex64\")\n",
      "a_complex=np.array([1,2,3,4],dtype=\"complex\")"
     ],
     "language": "python",
     "metadata": {},
     "outputs": [],
     "prompt_number": 11
    },
    {
     "cell_type": "code",
     "collapsed": false,
     "input": [
      "print a,a.dtype,a.itemsize\n",
      "print a_int32,a_int32.dtype,a_int32.itemsize\n",
      "print a_int,a_int.dtype,a_int.itemsize\n",
      "print a_float32, a_float32.dtype,a_float32.itemsize\n",
      "print a_float, a_float.dtype,a_float.itemsize\n",
      "print a_double, a_double.dtype,a_double.itemsize\n",
      "print a_double128, a_double128.dtype,a_double128.itemsize\n",
      "print a_complex64, a_complex64.dtype,a_complex64.itemsize\n",
      "print a_complex, a_complex.dtype,a_complex.itemsize"
     ],
     "language": "python",
     "metadata": {},
     "outputs": [
      {
       "output_type": "stream",
       "stream": "stdout",
       "text": [
        "[1 2 3 4] int64 8\n",
        "[1 2 3 4] int32 4\n",
        "[1 2 3 4] int64 8\n",
        "[ 1.  2.  3.  4.] float32 4\n",
        "[ 1.  2.  3.  4.] float64 8\n",
        "[ 1.  2.  3.  4.] float64 8\n",
        "[1.0 2.0 3.0 4.0] float128 16\n",
        "[ 1.+0.j  2.+0.j  3.+0.j  4.+0.j] complex64 8\n",
        "[ 1.+0.j  2.+0.j  3.+0.j  4.+0.j] complex128 16\n"
       ]
      }
     ],
     "prompt_number": 12
    },
    {
     "cell_type": "raw",
     "metadata": {},
     "source": [
      "Tipo del arreglo por defecto."
     ]
    },
    {
     "cell_type": "code",
     "collapsed": false,
     "input": [
      "print np.array([1,2,3,4]).dtype\n",
      "print np.array([1.,2,3,4]).dtype\n",
      "print np.array([1+1.j,2,3,4]).dtype"
     ],
     "language": "python",
     "metadata": {},
     "outputs": [
      {
       "output_type": "stream",
       "stream": "stdout",
       "text": [
        "int64\n",
        "float64\n",
        "complex128\n"
       ]
      }
     ],
     "prompt_number": 13
    },
    {
     "cell_type": "raw",
     "metadata": {},
     "source": [
      "Diferentes formas de crear arreglos"
     ]
    },
    {
     "cell_type": "code",
     "collapsed": false,
     "input": [
      "a=np.zeros((3,3))\n",
      "print \"*********\"\n",
      "b=np.zeros((3,3,3),dtype=\"complex\")\n",
      "print a\n",
      "print \"*********\"\n",
      "print b"
     ],
     "language": "python",
     "metadata": {},
     "outputs": [
      {
       "output_type": "stream",
       "stream": "stdout",
       "text": [
        "*********\n",
        "[[ 0.  0.  0.]\n",
        " [ 0.  0.  0.]\n",
        " [ 0.  0.  0.]]\n",
        "*********\n",
        "[[[ 0.+0.j  0.+0.j  0.+0.j]\n",
        "  [ 0.+0.j  0.+0.j  0.+0.j]\n",
        "  [ 0.+0.j  0.+0.j  0.+0.j]]\n",
        "\n",
        " [[ 0.+0.j  0.+0.j  0.+0.j]\n",
        "  [ 0.+0.j  0.+0.j  0.+0.j]\n",
        "  [ 0.+0.j  0.+0.j  0.+0.j]]\n",
        "\n",
        " [[ 0.+0.j  0.+0.j  0.+0.j]\n",
        "  [ 0.+0.j  0.+0.j  0.+0.j]\n",
        "  [ 0.+0.j  0.+0.j  0.+0.j]]]\n"
       ]
      }
     ],
     "prompt_number": 14
    },
    {
     "cell_type": "code",
     "collapsed": false,
     "input": [
      "c=np.ones((4,5))\n",
      "print c"
     ],
     "language": "python",
     "metadata": {},
     "outputs": [
      {
       "output_type": "stream",
       "stream": "stdout",
       "text": [
        "[[ 1.  1.  1.  1.  1.]\n",
        " [ 1.  1.  1.  1.  1.]\n",
        " [ 1.  1.  1.  1.  1.]\n",
        " [ 1.  1.  1.  1.  1.]]\n"
       ]
      }
     ],
     "prompt_number": 15
    },
    {
     "cell_type": "code",
     "collapsed": false,
     "input": [
      "d=np.empty((3,3))\n",
      "print d"
     ],
     "language": "python",
     "metadata": {},
     "outputs": [
      {
       "output_type": "stream",
       "stream": "stdout",
       "text": [
        "[[  2.35258567e-316   2.06811887e-316   1.52468816e-316]\n",
        " [  1.33816415e-316   1.33816415e-316   9.34634030e+218]\n",
        " [  3.42749966e-062   6.96770841e+252   3.95252517e-322]]\n"
       ]
      }
     ],
     "prompt_number": 16
    },
    {
     "cell_type": "code",
     "collapsed": false,
     "input": [
      "print np.arange(1,15,3)\n",
      "print np.arange(1,15,2.3)"
     ],
     "language": "python",
     "metadata": {},
     "outputs": [
      {
       "output_type": "stream",
       "stream": "stdout",
       "text": [
        "[ 1  4  7 10 13]\n",
        "[  1.    3.3   5.6   7.9  10.2  12.5  14.8]\n"
       ]
      }
     ],
     "prompt_number": 17
    },
    {
     "cell_type": "code",
     "collapsed": false,
     "input": [
      "np.linspace(1,20,5)"
     ],
     "language": "python",
     "metadata": {},
     "outputs": [
      {
       "output_type": "pyout",
       "prompt_number": 18,
       "text": [
        "array([  1.  ,   5.75,  10.5 ,  15.25,  20.  ])"
       ]
      }
     ],
     "prompt_number": 18
    },
    {
     "cell_type": "code",
     "collapsed": false,
     "input": [
      "a=np.array((1.+0.j,2,3,4))\n",
      "b=np.zeros_like(a)\n",
      "c=np.ones_like(a)\n",
      "print b\n",
      "print c"
     ],
     "language": "python",
     "metadata": {},
     "outputs": [
      {
       "output_type": "stream",
       "stream": "stdout",
       "text": [
        "[ 0.+0.j  0.+0.j  0.+0.j  0.+0.j]\n",
        "[ 1.+0.j  1.+0.j  1.+0.j  1.+0.j]\n"
       ]
      }
     ],
     "prompt_number": 23
    },
    {
     "cell_type": "raw",
     "metadata": {},
     "source": [
      "Operaciones b\u00e1sicas con arreglos"
     ]
    },
    {
     "cell_type": "code",
     "collapsed": true,
     "input": [
      "a=np.array((1.,2,3,4,5))\n",
      "b=np.array((6.,7,8,9,10))"
     ],
     "language": "python",
     "metadata": {},
     "outputs": [],
     "prompt_number": 25
    },
    {
     "cell_type": "code",
     "collapsed": false,
     "input": [
      "print a+b"
     ],
     "language": "python",
     "metadata": {},
     "outputs": [
      {
       "output_type": "stream",
       "stream": "stdout",
       "text": [
        "[  7.   9.  11.  13.  15.]\n"
       ]
      }
     ],
     "prompt_number": 26
    },
    {
     "cell_type": "code",
     "collapsed": false,
     "input": [
      "print a*b"
     ],
     "language": "python",
     "metadata": {},
     "outputs": [
      {
       "output_type": "stream",
       "stream": "stdout",
       "text": [
        "[  6.  14.  24.  36.  50.]\n"
       ]
      }
     ],
     "prompt_number": 27
    },
    {
     "cell_type": "code",
     "collapsed": false,
     "input": [
      "print a/b"
     ],
     "language": "python",
     "metadata": {},
     "outputs": [
      {
       "output_type": "stream",
       "stream": "stdout",
       "text": [
        "[ 0.16666667  0.28571429  0.375       0.44444444  0.5       ]\n"
       ]
      }
     ],
     "prompt_number": 28
    },
    {
     "cell_type": "code",
     "collapsed": false,
     "input": [
      "print a+1"
     ],
     "language": "python",
     "metadata": {},
     "outputs": [
      {
       "output_type": "stream",
       "stream": "stdout",
       "text": [
        "[ 2.  3.  4.  5.  6.]\n"
       ]
      }
     ],
     "prompt_number": 29
    },
    {
     "cell_type": "code",
     "collapsed": false,
     "input": [
      "print a*5"
     ],
     "language": "python",
     "metadata": {},
     "outputs": [
      {
       "output_type": "stream",
       "stream": "stdout",
       "text": [
        "[  5.  10.  15.  20.  25.]\n"
       ]
      }
     ],
     "prompt_number": 30
    },
    {
     "cell_type": "code",
     "collapsed": false,
     "input": [
      "A = np.array( [[1,1], \n",
      "               [0,1]] )\n",
      "B = np.array( [[2,0],[\n",
      "                3,4]] )\n",
      "print np.dot(A,B)"
     ],
     "language": "python",
     "metadata": {},
     "outputs": [
      {
       "output_type": "stream",
       "stream": "stdout",
       "text": [
        "[[5 4]\n",
        " [3 4]]\n"
       ]
      }
     ],
     "prompt_number": 31
    },
    {
     "cell_type": "raw",
     "metadata": {},
     "source": [
      "Escogiendo ejes para algunas operaciones. Tambien funciona con max, y min. "
     ]
    },
    {
     "cell_type": "code",
     "collapsed": false,
     "input": [
      "a=np.array(((1,2,3),\n",
      "            (4,5,6),\n",
      "            (7,8,9),\n",
      "            (10,11,12)))\n",
      "print a.mean()\n",
      "print a.mean(axis=0)\n",
      "print a.mean(axis=1)"
     ],
     "language": "python",
     "metadata": {},
     "outputs": [
      {
       "output_type": "stream",
       "stream": "stdout",
       "text": [
        "6.5\n",
        "[ 5.5  6.5  7.5]\n",
        "[  2.   5.   8.  11.]\n"
       ]
      }
     ],
     "prompt_number": 34
    },
    {
     "cell_type": "raw",
     "metadata": {},
     "source": [
      "Evaluando funciones que usan arreglos como parametros"
     ]
    },
    {
     "cell_type": "code",
     "collapsed": false,
     "input": [
      "t=np.linspace(0,np.pi,10)\n",
      "print np.sin(4)"
     ],
     "language": "python",
     "metadata": {},
     "outputs": [
      {
       "output_type": "stream",
       "stream": "stdout",
       "text": [
        "-0.756802495308\n"
       ]
      }
     ],
     "prompt_number": 37
    },
    {
     "cell_type": "code",
     "collapsed": false,
     "input": [
      "import math\n",
      "math.cos(t)"
     ],
     "language": "python",
     "metadata": {},
     "outputs": [
      {
       "ename": "TypeError",
       "evalue": "only length-1 arrays can be converted to Python scalars",
       "output_type": "pyerr",
       "traceback": [
        "\u001b[0;31m---------------------------------------------------------------------------\u001b[0m\n\u001b[0;31mTypeError\u001b[0m                                 Traceback (most recent call last)",
        "\u001b[0;32m<ipython-input-36-12f63c4d9645>\u001b[0m in \u001b[0;36m<module>\u001b[0;34m()\u001b[0m\n\u001b[1;32m      1\u001b[0m \u001b[0;32mimport\u001b[0m \u001b[0mmath\u001b[0m\u001b[0;34m\u001b[0m\u001b[0m\n\u001b[0;32m----> 2\u001b[0;31m \u001b[0mmath\u001b[0m\u001b[0;34m.\u001b[0m\u001b[0mcos\u001b[0m\u001b[0;34m(\u001b[0m\u001b[0mt\u001b[0m\u001b[0;34m)\u001b[0m\u001b[0;34m\u001b[0m\u001b[0m\n\u001b[0m",
        "\u001b[0;31mTypeError\u001b[0m: only length-1 arrays can be converted to Python scalars"
       ]
      }
     ],
     "prompt_number": 36
    },
    {
     "cell_type": "markdown",
     "metadata": {},
     "source": [
      "Indexado de los arreglos"
     ]
    },
    {
     "cell_type": "code",
     "collapsed": true,
     "input": [
      "a=np.arange(20)"
     ],
     "language": "python",
     "metadata": {},
     "outputs": [],
     "prompt_number": 39
    },
    {
     "cell_type": "code",
     "collapsed": false,
     "input": [
      "print a\n",
      "print a[3]\n",
      "print a[4:7]\n",
      "print a[2:16:3]\n",
      "print a[-1]"
     ],
     "language": "python",
     "metadata": {},
     "outputs": [
      {
       "output_type": "stream",
       "stream": "stdout",
       "text": [
        "[ 0  1  2  3  4  5  6  7  8  9 10 11 12 13 14 15 16 17 18 19]\n",
        "3\n",
        "[4 5 6]\n",
        "[ 2  5  8 11 14]\n",
        "19\n"
       ]
      }
     ],
     "prompt_number": 40
    },
    {
     "cell_type": "code",
     "collapsed": false,
     "input": [
      "a[1::3]=0\n",
      "print a"
     ],
     "language": "python",
     "metadata": {},
     "outputs": [
      {
       "output_type": "stream",
       "stream": "stdout",
       "text": [
        "[ 0  0  2  3  0  5  6  0  8  9  0 11 12  0 14 15  0 17 18  0]\n"
       ]
      }
     ],
     "prompt_number": 41
    },
    {
     "cell_type": "raw",
     "metadata": {},
     "source": [
      "Indexado en mas de una dimensi\u00f3n"
     ]
    },
    {
     "cell_type": "code",
     "collapsed": false,
     "input": [
      "def f(x,y):\n",
      "    return 10*x+y\n",
      "a=np.fromfunction(f,(5,7))\n",
      "print a"
     ],
     "language": "python",
     "metadata": {},
     "outputs": [
      {
       "output_type": "stream",
       "stream": "stdout",
       "text": [
        "[[  0.   1.   2.   3.   4.   5.   6.]\n",
        " [ 10.  11.  12.  13.  14.  15.  16.]\n",
        " [ 20.  21.  22.  23.  24.  25.  26.]\n",
        " [ 30.  31.  32.  33.  34.  35.  36.]\n",
        " [ 40.  41.  42.  43.  44.  45.  46.]]\n"
       ]
      }
     ],
     "prompt_number": 42
    },
    {
     "cell_type": "code",
     "collapsed": false,
     "input": [
      "a[2,3]"
     ],
     "language": "python",
     "metadata": {},
     "outputs": [
      {
       "output_type": "pyout",
       "prompt_number": 43,
       "text": [
        "23.0"
       ]
      }
     ],
     "prompt_number": 43
    },
    {
     "cell_type": "code",
     "collapsed": false,
     "input": [
      "a[1,:]"
     ],
     "language": "python",
     "metadata": {},
     "outputs": [
      {
       "output_type": "pyout",
       "prompt_number": 44,
       "text": [
        "array([ 10.,  11.,  12.,  13.,  14.,  15.,  16.])"
       ]
      }
     ],
     "prompt_number": 44
    },
    {
     "cell_type": "code",
     "collapsed": false,
     "input": [
      "a[:,4]"
     ],
     "language": "python",
     "metadata": {},
     "outputs": [
      {
       "output_type": "pyout",
       "prompt_number": 45,
       "text": [
        "array([  4.,  14.,  24.,  34.,  44.])"
       ]
      }
     ],
     "prompt_number": 45
    },
    {
     "cell_type": "code",
     "collapsed": false,
     "input": [
      "a[2:4,2:5]"
     ],
     "language": "python",
     "metadata": {},
     "outputs": [
      {
       "output_type": "pyout",
       "prompt_number": 46,
       "text": [
        "array([[ 22.,  23.,  24.],\n",
        "       [ 32.,  33.,  34.]])"
       ]
      }
     ],
     "prompt_number": 46
    },
    {
     "cell_type": "raw",
     "metadata": {},
     "source": [
      "Cambiando la forma de un arreglo:"
     ]
    },
    {
     "cell_type": "code",
     "collapsed": false,
     "input": [
      "a = np.floor(10*np.random.random((3,4)))\n",
      "a"
     ],
     "language": "python",
     "metadata": {},
     "outputs": [
      {
       "output_type": "pyout",
       "prompt_number": 48,
       "text": [
        "array([[ 6.,  8.,  8.,  8.],\n",
        "       [ 4.,  5.,  3.,  2.],\n",
        "       [ 5.,  5.,  0.,  8.]])"
       ]
      }
     ],
     "prompt_number": 48
    },
    {
     "cell_type": "code",
     "collapsed": false,
     "input": [
      "np.zeros?"
     ],
     "language": "python",
     "metadata": {},
     "outputs": [],
     "prompt_number": 53
    },
    {
     "cell_type": "code",
     "collapsed": false,
     "input": [
      "a.shape"
     ],
     "language": "python",
     "metadata": {},
     "outputs": [
      {
       "output_type": "pyout",
       "prompt_number": 49,
       "text": [
        "(3, 4)"
       ]
      }
     ],
     "prompt_number": 49
    },
    {
     "cell_type": "code",
     "collapsed": false,
     "input": [
      "a.ravel()"
     ],
     "language": "python",
     "metadata": {},
     "outputs": [
      {
       "output_type": "pyout",
       "prompt_number": 50,
       "text": [
        "array([ 6.,  8.,  8.,  8.,  4.,  5.,  3.,  2.,  5.,  5.,  0.,  8.])"
       ]
      }
     ],
     "prompt_number": 50
    },
    {
     "cell_type": "code",
     "collapsed": false,
     "input": [
      "a.shape=(6,2)"
     ],
     "language": "python",
     "metadata": {},
     "outputs": [],
     "prompt_number": 56
    },
    {
     "cell_type": "code",
     "collapsed": false,
     "input": [
      "a"
     ],
     "language": "python",
     "metadata": {},
     "outputs": [
      {
       "output_type": "pyout",
       "prompt_number": 57,
       "text": [
        "array([[ 6.,  8.],\n",
        "       [ 8.,  8.],\n",
        "       [ 4.,  5.],\n",
        "       [ 3.,  2.],\n",
        "       [ 5.,  5.],\n",
        "       [ 0.,  8.]])"
       ]
      }
     ],
     "prompt_number": 57
    },
    {
     "cell_type": "code",
     "collapsed": false,
     "input": [
      "a.transpose()"
     ],
     "language": "python",
     "metadata": {},
     "outputs": [
      {
       "output_type": "pyout",
       "prompt_number": 58,
       "text": [
        "array([[ 6.,  8.,  4.,  3.,  5.,  0.],\n",
        "       [ 8.,  8.,  5.,  2.,  5.,  8.]])"
       ]
      }
     ],
     "prompt_number": 58
    },
    {
     "cell_type": "code",
     "collapsed": false,
     "input": [
      "a.resize(3,4)"
     ],
     "language": "python",
     "metadata": {},
     "outputs": [],
     "prompt_number": 59
    },
    {
     "cell_type": "code",
     "collapsed": false,
     "input": [
      "a"
     ],
     "language": "python",
     "metadata": {},
     "outputs": [
      {
       "output_type": "pyout",
       "prompt_number": 60,
       "text": [
        "array([[ 6.,  8.,  8.,  8.],\n",
        "       [ 4.,  5.,  3.,  2.],\n",
        "       [ 5.,  5.,  0.,  8.]])"
       ]
      }
     ],
     "prompt_number": 60
    },
    {
     "cell_type": "code",
     "collapsed": false,
     "input": [
      "np.reshape?"
     ],
     "language": "python",
     "metadata": {},
     "outputs": [],
     "prompt_number": 63
    },
    {
     "cell_type": "code",
     "collapsed": false,
     "input": [
      "a"
     ],
     "language": "python",
     "metadata": {},
     "outputs": []
    },
    {
     "cell_type": "markdown",
     "metadata": {},
     "source": [
      "pegando arreglos"
     ]
    },
    {
     "cell_type": "code",
     "collapsed": false,
     "input": [
      "a = np.floor(10*np.random.random((2,2)))\n",
      "b = np.floor(10*np.random.random((2,2)))\n",
      "print a\n",
      "print b"
     ],
     "language": "python",
     "metadata": {},
     "outputs": [
      {
       "output_type": "stream",
       "stream": "stdout",
       "text": [
        "[[ 7.  2.]\n",
        " [ 8.  0.]]\n",
        "[[ 4.  7.]\n",
        " [ 9.  9.]]\n"
       ]
      }
     ],
     "prompt_number": 64
    },
    {
     "cell_type": "code",
     "collapsed": false,
     "input": [
      "np.vstack((a,b))"
     ],
     "language": "python",
     "metadata": {},
     "outputs": [
      {
       "output_type": "pyout",
       "prompt_number": 65,
       "text": [
        "array([[ 7.,  2.],\n",
        "       [ 8.,  0.],\n",
        "       [ 4.,  7.],\n",
        "       [ 9.,  9.]])"
       ]
      }
     ],
     "prompt_number": 65
    },
    {
     "cell_type": "code",
     "collapsed": false,
     "input": [
      "np.hstack((a,b))"
     ],
     "language": "python",
     "metadata": {},
     "outputs": [
      {
       "output_type": "pyout",
       "prompt_number": 66,
       "text": [
        "array([[ 7.,  2.,  4.,  7.],\n",
        "       [ 8.,  0.,  9.,  9.]])"
       ]
      }
     ],
     "prompt_number": 66
    },
    {
     "cell_type": "code",
     "collapsed": false,
     "input": [
      "a = np.floor(10*np.random.random((2,12)))\n",
      "a"
     ],
     "language": "python",
     "metadata": {},
     "outputs": [
      {
       "output_type": "pyout",
       "prompt_number": 67,
       "text": [
        "array([[ 0.,  8.,  0.,  0.,  8.,  2.,  3.,  7.,  3.,  4.,  4.,  1.],\n",
        "       [ 3.,  1.,  5.,  9.,  4.,  4.,  3.,  1.,  5.,  9.,  5.,  9.]])"
       ]
      }
     ],
     "prompt_number": 67
    },
    {
     "cell_type": "code",
     "collapsed": false,
     "input": [
      "np.hsplit(a,3)"
     ],
     "language": "python",
     "metadata": {},
     "outputs": [
      {
       "output_type": "pyout",
       "prompt_number": 68,
       "text": [
        "[array([[ 0.,  8.,  0.,  0.],\n",
        "       [ 3.,  1.,  5.,  9.]]),\n",
        " array([[ 8.,  2.,  3.,  7.],\n",
        "       [ 4.,  4.,  3.,  1.]]),\n",
        " array([[ 3.,  4.,  4.,  1.],\n",
        "       [ 5.,  9.,  5.,  9.]])]"
       ]
      }
     ],
     "prompt_number": 68
    },
    {
     "cell_type": "markdown",
     "metadata": {},
     "source": [
      "Algunas funciones de algebra lineal"
     ]
    },
    {
     "cell_type": "code",
     "collapsed": true,
     "input": [
      "from numpy.linalg import *"
     ],
     "language": "python",
     "metadata": {},
     "outputs": [],
     "prompt_number": 69
    },
    {
     "cell_type": "code",
     "collapsed": true,
     "input": [
      "a = np.array([[1.0, 2.0], [4.0, 3.0]])"
     ],
     "language": "python",
     "metadata": {},
     "outputs": [],
     "prompt_number": 70
    },
    {
     "cell_type": "code",
     "collapsed": false,
     "input": [
      "print a\n",
      "print a.transpose()"
     ],
     "language": "python",
     "metadata": {},
     "outputs": [
      {
       "output_type": "stream",
       "stream": "stdout",
       "text": [
        "[[ 1.  2.]\n",
        " [ 4.  3.]]\n",
        "[[ 1.  4.]\n",
        " [ 2.  3.]]\n"
       ]
      }
     ],
     "prompt_number": 71
    },
    {
     "cell_type": "code",
     "collapsed": true,
     "input": [
      "b=inv(a)"
     ],
     "language": "python",
     "metadata": {},
     "outputs": [],
     "prompt_number": 72
    },
    {
     "cell_type": "code",
     "collapsed": false,
     "input": [
      "print b"
     ],
     "language": "python",
     "metadata": {},
     "outputs": [
      {
       "output_type": "stream",
       "stream": "stdout",
       "text": [
        "[[-0.6  0.4]\n",
        " [ 0.8 -0.2]]\n"
       ]
      }
     ],
     "prompt_number": 73
    },
    {
     "cell_type": "code",
     "collapsed": false,
     "input": [
      "print np.dot(a,b)"
     ],
     "language": "python",
     "metadata": {},
     "outputs": [
      {
       "output_type": "stream",
       "stream": "stdout",
       "text": [
        "[[ 1.  0.]\n",
        " [ 0.  1.]]\n"
       ]
      }
     ],
     "prompt_number": 74
    },
    {
     "cell_type": "code",
     "collapsed": false,
     "input": [
      "print np.eye(7)"
     ],
     "language": "python",
     "metadata": {},
     "outputs": [
      {
       "output_type": "stream",
       "stream": "stdout",
       "text": [
        "[[ 1.  0.  0.  0.  0.  0.  0.]\n",
        " [ 0.  1.  0.  0.  0.  0.  0.]\n",
        " [ 0.  0.  1.  0.  0.  0.  0.]\n",
        " [ 0.  0.  0.  1.  0.  0.  0.]\n",
        " [ 0.  0.  0.  0.  1.  0.  0.]\n",
        " [ 0.  0.  0.  0.  0.  1.  0.]\n",
        " [ 0.  0.  0.  0.  0.  0.  1.]]\n"
       ]
      }
     ],
     "prompt_number": 76
    },
    {
     "cell_type": "code",
     "collapsed": false,
     "input": [
      "f= np.trace(a)\n",
      "print f"
     ],
     "language": "python",
     "metadata": {},
     "outputs": [
      {
       "output_type": "stream",
       "stream": "stdout",
       "text": [
        "0\n"
       ]
      }
     ],
     "prompt_number": 80
    },
    {
     "cell_type": "code",
     "collapsed": false,
     "input": [
      "#x+5y=4 ; 6x-y=3\n",
      "a=np.array([[1,5],[6,-1]])\n",
      "y=np.array((4,3))\n",
      "solve(a,y)"
     ],
     "language": "python",
     "metadata": {},
     "outputs": [
      {
       "output_type": "pyout",
       "prompt_number": 78,
       "text": [
        "array([ 0.61290323,  0.67741935])"
       ]
      }
     ],
     "prompt_number": 78
    },
    {
     "cell_type": "markdown",
     "metadata": {},
     "source": [
      "Graficando en 1D"
     ]
    },
    {
     "cell_type": "code",
     "collapsed": true,
     "input": [
      "t=np.linspace(0,2*np.pi,20)\n",
      "y=np.sin(t)\n",
      "y1=np.cos(t)"
     ],
     "language": "python",
     "metadata": {},
     "outputs": [],
     "prompt_number": 79
    },
    {
     "cell_type": "code",
     "collapsed": false,
     "input": [
      "#%pylab\n",
      "%pylab inline\n",
      "plot(y)"
     ],
     "language": "python",
     "metadata": {},
     "outputs": [
      {
       "output_type": "stream",
       "stream": "stdout",
       "text": [
        "\n",
        "Welcome to pylab, a matplotlib-based Python environment [backend: module://IPython.kernel.zmq.pylab.backend_inline].\n",
        "For more information, type 'help(pylab)'.\n"
       ]
      },
      {
       "output_type": "pyout",
       "prompt_number": 82,
       "text": [
        "[<matplotlib.lines.Line2D at 0x3b61fd0>]"
       ]
      },
      {
       "output_type": "display_data",
       "png": "[encoded data removed]",
       "text": [
        "<matplotlib.figure.Figure at 0x37a2b90>"
       ]
      }
     ],
     "prompt_number": 82
    },
    {
     "cell_type": "code",
     "collapsed": false,
     "input": [
      "plot(t,y)"
     ],
     "language": "python",
     "metadata": {},
     "outputs": []
    },
    {
     "cell_type": "code",
     "collapsed": false,
     "input": [
      "plot(t,y,t,y1)"
     ],
     "language": "python",
     "metadata": {},
     "outputs": []
    },
    {
     "cell_type": "code",
     "collapsed": false,
     "input": [
      "plot(t,y,\"r*\",t,y1,\"y.-\")"
     ],
     "language": "python",
     "metadata": {},
     "outputs": []
    },
    {
     "cell_type": "code",
     "collapsed": false,
     "input": [
      "plot(t,y,\"r*\",label=\"sin\")\n",
      "plot(t,y1,\"y.-\",label=\"cos\")\n",
      "legend()"
     ],
     "language": "python",
     "metadata": {},
     "outputs": []
    },
    {
     "cell_type": "code",
     "collapsed": false,
     "input": [
      "plot(t,y,\"r*\",label=\"sin\")\n",
      "plot(t,y1,\"y.-\",label=\"cos\")\n",
      "legend()\n",
      "xlabel(\"Tiempo (s)\")\n",
      "ylabel(\"Amplitud (m)\")\n",
      "title(u\"Una gr\u00e1fica\")\n",
      "grid()"
     ],
     "language": "python",
     "metadata": {},
     "outputs": []
    },
    {
     "cell_type": "code",
     "collapsed": false,
     "input": [
      "subplot(211)\n",
      "plot(t,y,\"r*\",label=\"sin\")\n",
      "subplot(212)\n",
      "plot(t,y1,\"y.-\",label=\"cos\")"
     ],
     "language": "python",
     "metadata": {},
     "outputs": []
    },
    {
     "cell_type": "code",
     "collapsed": false,
     "input": [
      "subplot(121)\n",
      "plot(t,y,\"r*\",label=\"sin\")\n",
      "subplot(122)\n",
      "plot(t,y1,\"y.-\",label=\"cos\")"
     ],
     "language": "python",
     "metadata": {},
     "outputs": []
    },
    {
     "cell_type": "code",
     "collapsed": false,
     "input": [
      "subplot(221)\n",
      "plot(t,y,\"r*\",label=\"sin\")\n",
      "subplot(222)\n",
      "plot(t,y1,\"y.-\",label=\"cos\")\n",
      "subplot(223)\n",
      "plot(t,y,\"r*\",label=\"sin\")\n",
      "subplot(224)\n",
      "plot(t,y1,\"y.-\",label=\"cos\")"
     ],
     "language": "python",
     "metadata": {},
     "outputs": []
    },
    {
     "cell_type": "code",
     "collapsed": true,
     "input": [
      "k=exp(t)"
     ],
     "language": "python",
     "metadata": {},
     "outputs": []
    },
    {
     "cell_type": "code",
     "collapsed": false,
     "input": [
      "semilogx(t,k)"
     ],
     "language": "python",
     "metadata": {},
     "outputs": []
    },
    {
     "cell_type": "code",
     "collapsed": false,
     "input": [
      "semilogy(t,k)\n",
      "grid()"
     ],
     "language": "python",
     "metadata": {},
     "outputs": []
    },
    {
     "cell_type": "code",
     "collapsed": false,
     "input": [
      "loglog(t,k)\n",
      "grid()"
     ],
     "language": "python",
     "metadata": {},
     "outputs": []
    },
    {
     "cell_type": "code",
     "collapsed": false,
     "input": [
      "p=plot(t,y)\n",
      "xlim(-1,10)\n",
      "ylim(-2,2)\n",
      "grid()"
     ],
     "language": "python",
     "metadata": {},
     "outputs": []
    },
    {
     "cell_type": "raw",
     "metadata": {},
     "source": [
      "Graficas en 2D"
     ]
    },
    {
     "cell_type": "code",
     "collapsed": true,
     "input": [
      "x=np.linspace(-2,2,80)\n",
      "y=np.linspace(-2,2,80)\n",
      "X,Y=np.meshgrid(x,y)\n",
      "Z=np.sin(X**2+Y**2)"
     ],
     "language": "python",
     "metadata": {},
     "outputs": []
    },
    {
     "cell_type": "code",
     "collapsed": false,
     "input": [
      "imshow(Z)"
     ],
     "language": "python",
     "metadata": {},
     "outputs": []
    },
    {
     "cell_type": "code",
     "collapsed": false,
     "input": [
      "imshow(Z)\n",
      "colorbar()"
     ],
     "language": "python",
     "metadata": {},
     "outputs": []
    },
    {
     "cell_type": "code",
     "collapsed": false,
     "input": [
      "imshow(Z,cmap=\"spectral\") # jet, gray,prism, summer, winter, blues, ........\n",
      "colorbar()"
     ],
     "language": "python",
     "metadata": {},
     "outputs": []
    },
    {
     "cell_type": "code",
     "collapsed": false,
     "input": [
      "%pylab inline\n",
      "from pylab import *\n",
      "from numpy import outer\n",
      "rc('text', usetex=False)\n",
      "a=outer(arange(0,1,0.01),ones(10))\n",
      "figure(figsize=(20,5))\n",
      "subplots_adjust(top=0.9,bottom=0.05,left=0.01,right=0.99)\n",
      "maps=[m for m in cm.datad if not m.endswith(\"_r\")]\n",
      "maps.sort()\n",
      "l=len(maps)+1\n",
      "for i, m in enumerate(maps):\n",
      "    subplot(1,l,i+1)\n",
      "    axis(\"off\")\n",
      "    imshow(a,aspect='auto',cmap=get_cmap(m),origin=\"lower\")\n",
      "    title(m,rotation=90,fontsize=12)"
     ],
     "language": "python",
     "metadata": {},
     "outputs": []
    },
    {
     "cell_type": "code",
     "collapsed": false,
     "input": [
      "imshow(Z,cmap=\"spectral\",extent=(-1,1,-1,1))\n",
      "title(\"Cambiando los ejes\")"
     ],
     "language": "python",
     "metadata": {},
     "outputs": []
    },
    {
     "cell_type": "code",
     "collapsed": false,
     "input": [
      "%pylab\n",
      "import matplotlib.pyplot as plt\n",
      "from mpl_toolkits.mplot3d import Axes3D\n",
      "fig = plt.figure()\n",
      "ax = fig.add_subplot(111, projection='3d')\n",
      "surf=ax.plot_surface(X,Y,Z,cmap=\"jet\")\n",
      "fig.colorbar(surf)"
     ],
     "language": "python",
     "metadata": {},
     "outputs": []
    },
    {
     "cell_type": "code",
     "collapsed": false,
     "input": [
      "import matplotlib.pyplot as plt\n",
      "from mpl_toolkits.mplot3d import Axes3D\n",
      "fig = plt.figure()\n",
      "ax = fig.add_subplot(111, projection='3d')\n",
      "ax.plot_wireframe(X,Y,Z)"
     ],
     "language": "python",
     "metadata": {},
     "outputs": []
    },
    {
     "cell_type": "code",
     "collapsed": false,
     "input": [
      "import matplotlib.pyplot as plt\n",
      "from mpl_toolkits.mplot3d import Axes3D\n",
      "fig = plt.figure()\n",
      "ax = fig.add_subplot(111, projection='3d')\n",
      "ax.contour(X,Y,Z)"
     ],
     "language": "python",
     "metadata": {},
     "outputs": []
    },
    {
     "cell_type": "code",
     "collapsed": true,
     "input": [],
     "language": "python",
     "metadata": {},
     "outputs": []
    }
   ],
   "metadata": {}
  }
 ]
}